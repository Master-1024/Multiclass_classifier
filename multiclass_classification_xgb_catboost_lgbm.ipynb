{
 "cells": [
  {
   "cell_type": "code",
   "execution_count": 468,
   "metadata": {},
   "outputs": [],
   "source": [
    "import pandas as pd\n",
    "import numpy as np\n",
    "import os\n",
    "from sklearn.metrics import accuracy_score\n",
    "from sklearn import preprocessing\n",
    "import pickle"
   ]
  },
  {
   "cell_type": "code",
   "execution_count": 469,
   "metadata": {},
   "outputs": [],
   "source": [
    "df=pd.read_excel(\"IEP_K_means.xlsx\")"
   ]
  },
  {
   "cell_type": "code",
   "execution_count": 470,
   "metadata": {},
   "outputs": [],
   "source": [
    "df_new=df.drop(columns=[\"Interface Name\"],axis=1)"
   ]
  },
  {
   "cell_type": "code",
   "execution_count": 471,
   "metadata": {},
   "outputs": [],
   "source": [
    "dfn_cp=df_new.copy()"
   ]
  },
  {
   "cell_type": "code",
   "execution_count": 472,
   "metadata": {},
   "outputs": [
    {
     "data": {
      "text/plain": [
       "No of Lines of code                   0\n",
       "No of Components                      0\n",
       "No of External Interactions           0\n",
       "No of Lines of Transformation Code    0\n",
       "No of Extensions                      0\n",
       "Total                                 0\n",
       "Complexity                            0\n",
       "dtype: int64"
      ]
     },
     "execution_count": 472,
     "metadata": {},
     "output_type": "execute_result"
    }
   ],
   "source": [
    "df_new.isnull().sum()"
   ]
  },
  {
   "cell_type": "code",
   "execution_count": 473,
   "metadata": {},
   "outputs": [
    {
     "data": {
      "text/plain": [
       "No of Lines of code                     int64\n",
       "No of Components                      float64\n",
       "No of External Interactions             int64\n",
       "No of Lines of Transformation Code    float64\n",
       "No of Extensions                        int64\n",
       "Total                                 float64\n",
       "Complexity                             object\n",
       "dtype: object"
      ]
     },
     "execution_count": 473,
     "metadata": {},
     "output_type": "execute_result"
    }
   ],
   "source": [
    "df_new.dtypes"
   ]
  },
  {
   "cell_type": "code",
   "execution_count": 474,
   "metadata": {},
   "outputs": [
    {
     "name": "stdout",
     "output_type": "stream",
     "text": [
      "No of Lines of code\n",
      "int64\n",
      "No of Components\n",
      "float64\n",
      "No of External Interactions\n",
      "int64\n",
      "No of Lines of Transformation Code\n",
      "float64\n",
      "No of Extensions\n",
      "int64\n",
      "Total\n",
      "float64\n",
      "Complexity\n",
      "object\n"
     ]
    }
   ],
   "source": [
    "encoder_list=[]\n",
    "def encode_categoricaldata(name,x):\n",
    "    print(x.dtype)\n",
    "    le = preprocessing.LabelEncoder()\n",
    "    if x.dtype==\"object\":\n",
    "        le.fit(x)\n",
    "        df_new[name] = le.transform(x)\n",
    "        label_file = name+\"_encoder.sav\"\n",
    "        pickle.dump(le, open(label_file, 'wb'))\n",
    "        encoder_list.append({name:label_file})\n",
    "for i in df_new:\n",
    "    print(i)\n",
    "    encode_categoricaldata(i,df_new[i])\n",
    "    "
   ]
  },
  {
   "cell_type": "code",
   "execution_count": 475,
   "metadata": {},
   "outputs": [
    {
     "name": "stdout",
     "output_type": "stream",
     "text": [
      "encoding list: [{'Complexity': 'Complexity_encoder.sav'}]\n",
      "<class 'sklearn.preprocessing.label.LabelEncoder'>\n",
      "pickled data: ['High' 'Low' 'Medium']\n"
     ]
    }
   ],
   "source": [
    "print(\"encoding list:\",encoder_list)\n",
    "file = open('Complexity_encoder.sav', 'rb')\n",
    "pickled_data = pickle.load(file)\n",
    "print(type(pickled_data))\n",
    "print(\"pickled data:\",pickled_data.classes_)\n",
    "file.close()"
   ]
  },
  {
   "cell_type": "code",
   "execution_count": 476,
   "metadata": {},
   "outputs": [
    {
     "data": {
      "text/plain": [
       "array([1, 2, 0], dtype=int64)"
      ]
     },
     "execution_count": 476,
     "metadata": {},
     "output_type": "execute_result"
    }
   ],
   "source": [
    "df_new[\"Complexity\"].unique()"
   ]
  },
  {
   "cell_type": "code",
   "execution_count": 477,
   "metadata": {},
   "outputs": [],
   "source": [
    "# df_new[\"Complexity\"]=df_new[\"Complexity\"].map({\"Low\":0,\"Medium\":1,\"High\":2})"
   ]
  },
  {
   "cell_type": "code",
   "execution_count": 478,
   "metadata": {},
   "outputs": [],
   "source": [
    "X=df_new.drop(columns=[\"Complexity\"],axis=1)\n",
    "y=df_new[\"Complexity\"]"
   ]
  },
  {
   "cell_type": "code",
   "execution_count": 479,
   "metadata": {},
   "outputs": [],
   "source": [
    "from sklearn.model_selection import train_test_split\n",
    "X_train, X_test, y_train, y_test = train_test_split(X, y, test_size = 0.30, random_state = 42)"
   ]
  },
  {
   "cell_type": "code",
   "execution_count": 480,
   "metadata": {},
   "outputs": [
    {
     "name": "stdout",
     "output_type": "stream",
     "text": [
      "(72, 6)\n"
     ]
    }
   ],
   "source": [
    "print(X_train.shape)"
   ]
  },
  {
   "cell_type": "code",
   "execution_count": 481,
   "metadata": {},
   "outputs": [],
   "source": [
    "from xgboost import XGBClassifier"
   ]
  },
  {
   "cell_type": "code",
   "execution_count": 482,
   "metadata": {},
   "outputs": [
    {
     "name": "stdout",
     "output_type": "stream",
     "text": [
      "[18:43:58] WARNING: C:/Users/Administrator/workspace/xgboost-win64_release_1.3.0/src/learner.cc:1061: Starting in XGBoost 1.3.0, the default evaluation metric used with the objective 'multi:softprob' was changed from 'merror' to 'mlogloss'. Explicitly set eval_metric if you'd like to restore the old behavior.\n"
     ]
    },
    {
     "data": {
      "text/plain": [
       "XGBClassifier(base_score=0.5, booster='gbtree', colsample_bylevel=1,\n",
       "       colsample_bynode=1, colsample_bytree=1, gamma=0, gpu_id=-1,\n",
       "       importance_type='gain', interaction_constraints='',\n",
       "       learning_rate=0.1, max_delta_step=0, max_depth=6,\n",
       "       min_child_weight=1, missing=nan, monotone_constraints='()',\n",
       "       n_estimators=100, n_jobs=8, num_parallel_tree=1,\n",
       "       objective='multi:softprob', random_state=0, reg_alpha=0,\n",
       "       reg_lambda=1, scale_pos_weight=None, subsample=1,\n",
       "       tree_method='exact', use_label_encoder=True, validate_parameters=1,\n",
       "       verbosity=None)"
      ]
     },
     "execution_count": 482,
     "metadata": {},
     "output_type": "execute_result"
    }
   ],
   "source": [
    "model_XGB = XGBClassifier(learning_rate=0.1)\n",
    "model_XGB.fit(X_train, y_train)"
   ]
  },
  {
   "cell_type": "code",
   "execution_count": 483,
   "metadata": {},
   "outputs": [
    {
     "data": {
      "text/plain": [
       "array([0, 2, 1, 0, 2, 2, 1, 2, 2, 1, 0, 1, 1, 2, 1, 1, 2, 1, 2, 2, 1, 0,\n",
       "       2, 0, 2, 2, 2, 2, 2, 2, 2])"
      ]
     },
     "execution_count": 483,
     "metadata": {},
     "output_type": "execute_result"
    }
   ],
   "source": [
    "y_pred_XGB = model_XGB.predict(X_test)\n",
    "y_pred_XGB"
   ]
  },
  {
   "cell_type": "code",
   "execution_count": 484,
   "metadata": {},
   "outputs": [
    {
     "name": "stdout",
     "output_type": "stream",
     "text": [
      "Training Accuracy of xgboost: 1.0\n"
     ]
    }
   ],
   "source": [
    "x_train_XGB = model_XGB.predict(X_train)\n",
    "print(\"Training Accuracy of xgboost:\",accuracy_score(y_train, x_train_XGB))"
   ]
  },
  {
   "cell_type": "code",
   "execution_count": 485,
   "metadata": {},
   "outputs": [
    {
     "name": "stdout",
     "output_type": "stream",
     "text": [
      "Validation Accuracy of xgboost: 1.0\n"
     ]
    }
   ],
   "source": [
    "print(\"Validation Accuracy of xgboost:\",accuracy_score(y_test, y_pred_XGB))"
   ]
  },
  {
   "cell_type": "code",
   "execution_count": 486,
   "metadata": {},
   "outputs": [],
   "source": [
    "import lightgbm as lgb"
   ]
  },
  {
   "cell_type": "code",
   "execution_count": 487,
   "metadata": {},
   "outputs": [],
   "source": [
    "lgb_train = lgb.Dataset(X_train, y_train)\n",
    "lgb_eval = lgb.Dataset(X_test, y_test, reference=lgb_train)\n",
    "params = {\n",
    "'boosting_type': 'gbdt',\n",
    "'objective': 'regression',\n",
    "'metric': {'l2', 'l1'},\n",
    "'num_leaves': 31,\n",
    "'learning_rate': 0.05,\n",
    "'feature_fraction': 0.9,\n",
    "'bagging_fraction': 0.8,\n",
    "'bagging_freq': 5,\n",
    "'verbose': 0\n",
    "}"
   ]
  },
  {
   "cell_type": "code",
   "execution_count": 488,
   "metadata": {},
   "outputs": [
    {
     "name": "stdout",
     "output_type": "stream",
     "text": [
      "[LightGBM] [Warning] Find whitespaces in feature_names, replace with underlines\n",
      "[LightGBM] [Warning] Auto-choosing col-wise multi-threading, the overhead of testing was 0.000066 seconds.\n",
      "You can set `force_col_wise=true` to remove the overhead.\n",
      "[LightGBM] [Warning] Find whitespaces in feature_names, replace with underlines\n",
      "[LightGBM] [Warning] No further splits with positive gain, best gain: -inf\n",
      "[1]\tvalid_0's l1: 0.689779\tvalid_0's l2: 0.598101\n",
      "Training until validation scores don't improve for 3 rounds\n",
      "[LightGBM] [Warning] No further splits with positive gain, best gain: -inf\n",
      "[2]\tvalid_0's l1: 0.683644\tvalid_0's l2: 0.577603\n",
      "[LightGBM] [Warning] No further splits with positive gain, best gain: -inf\n",
      "[3]\tvalid_0's l1: 0.677816\tvalid_0's l2: 0.559641\n",
      "[LightGBM] [Warning] No further splits with positive gain, best gain: -inf\n",
      "[4]\tvalid_0's l1: 0.672279\tvalid_0's l2: 0.543941\n",
      "[LightGBM] [Warning] No further splits with positive gain, best gain: -inf\n",
      "[5]\tvalid_0's l1: 0.667019\tvalid_0's l2: 0.530258\n",
      "[LightGBM] [Warning] No further splits with positive gain, best gain: -inf\n",
      "[6]\tvalid_0's l1: 0.662286\tvalid_0's l2: 0.519917\n",
      "[LightGBM] [Warning] No further splits with positive gain, best gain: -inf\n",
      "[7]\tvalid_0's l1: 0.657936\tvalid_0's l2: 0.510813\n",
      "[LightGBM] [Warning] No further splits with positive gain, best gain: -inf\n",
      "[8]\tvalid_0's l1: 0.653657\tvalid_0's l2: 0.503125\n",
      "[LightGBM] [Warning] No further splits with positive gain, best gain: -inf\n",
      "[9]\tvalid_0's l1: 0.649731\tvalid_0's l2: 0.496391\n",
      "[LightGBM] [Warning] No further splits with positive gain, best gain: -inf\n",
      "[10]\tvalid_0's l1: 0.645862\tvalid_0's l2: 0.490794\n",
      "[LightGBM] [Warning] No further splits with positive gain, best gain: -inf\n",
      "[11]\tvalid_0's l1: 0.642639\tvalid_0's l2: 0.485135\n",
      "[LightGBM] [Warning] No further splits with positive gain, best gain: -inf\n",
      "[12]\tvalid_0's l1: 0.639577\tvalid_0's l2: 0.480142\n",
      "[LightGBM] [Warning] No further splits with positive gain, best gain: -inf\n",
      "[13]\tvalid_0's l1: 0.636667\tvalid_0's l2: 0.475746\n",
      "[LightGBM] [Warning] No further splits with positive gain, best gain: -inf\n",
      "[14]\tvalid_0's l1: 0.633904\tvalid_0's l2: 0.471882\n",
      "[LightGBM] [Warning] No further splits with positive gain, best gain: -inf\n",
      "[15]\tvalid_0's l1: 0.631278\tvalid_0's l2: 0.468493\n",
      "[LightGBM] [Warning] No further splits with positive gain, best gain: -inf\n",
      "[16]\tvalid_0's l1: 0.628881\tvalid_0's l2: 0.465566\n",
      "[LightGBM] [Warning] No further splits with positive gain, best gain: -inf\n",
      "[17]\tvalid_0's l1: 0.626604\tvalid_0's l2: 0.462997\n",
      "[LightGBM] [Warning] No further splits with positive gain, best gain: -inf\n",
      "[18]\tvalid_0's l1: 0.62444\tvalid_0's l2: 0.460746\n",
      "[LightGBM] [Warning] No further splits with positive gain, best gain: -inf\n",
      "[19]\tvalid_0's l1: 0.622385\tvalid_0's l2: 0.45878\n",
      "[LightGBM] [Warning] No further splits with positive gain, best gain: -inf\n",
      "[20]\tvalid_0's l1: 0.620433\tvalid_0's l2: 0.457067\n",
      "[LightGBM] [Warning] No further splits with positive gain, best gain: -inf\n",
      "[21]\tvalid_0's l1: 0.617228\tvalid_0's l2: 0.452548\n",
      "[LightGBM] [Warning] No further splits with positive gain, best gain: -inf\n",
      "[22]\tvalid_0's l1: 0.616172\tvalid_0's l2: 0.45029\n",
      "[LightGBM] [Warning] No further splits with positive gain, best gain: -inf\n",
      "[23]\tvalid_0's l1: 0.613168\tvalid_0's l2: 0.446218\n",
      "[LightGBM] [Warning] No further splits with positive gain, best gain: -inf\n",
      "[24]\tvalid_0's l1: 0.611515\tvalid_0's l2: 0.444094\n",
      "[LightGBM] [Warning] No further splits with positive gain, best gain: -inf\n",
      "[25]\tvalid_0's l1: 0.608593\tvalid_0's l2: 0.440276\n",
      "[LightGBM] [Warning] No further splits with positive gain, best gain: -inf\n",
      "[26]\tvalid_0's l1: 0.598385\tvalid_0's l2: 0.429257\n",
      "[LightGBM] [Warning] No further splits with positive gain, best gain: -inf\n",
      "[27]\tvalid_0's l1: 0.588688\tvalid_0's l2: 0.419175\n",
      "[LightGBM] [Warning] No further splits with positive gain, best gain: -inf\n",
      "[28]\tvalid_0's l1: 0.579476\tvalid_0's l2: 0.409946\n",
      "[LightGBM] [Warning] No further splits with positive gain, best gain: -inf\n",
      "[29]\tvalid_0's l1: 0.570724\tvalid_0's l2: 0.401492\n",
      "[LightGBM] [Warning] No further splits with positive gain, best gain: -inf\n",
      "[30]\tvalid_0's l1: 0.56241\tvalid_0's l2: 0.393745\n",
      "[LightGBM] [Warning] No further splits with positive gain, best gain: -inf\n",
      "[31]\tvalid_0's l1: 0.556907\tvalid_0's l2: 0.389224\n",
      "[LightGBM] [Warning] No further splits with positive gain, best gain: -inf\n",
      "[32]\tvalid_0's l1: 0.551679\tvalid_0's l2: 0.385078\n",
      "[LightGBM] [Warning] No further splits with positive gain, best gain: -inf\n",
      "[33]\tvalid_0's l1: 0.546713\tvalid_0's l2: 0.381273\n",
      "[LightGBM] [Warning] No further splits with positive gain, best gain: -inf\n",
      "[34]\tvalid_0's l1: 0.541995\tvalid_0's l2: 0.377779\n",
      "[LightGBM] [Warning] No further splits with positive gain, best gain: -inf\n",
      "[35]\tvalid_0's l1: 0.537513\tvalid_0's l2: 0.374569\n",
      "[LightGBM] [Warning] No further splits with positive gain, best gain: -inf\n",
      "[36]\tvalid_0's l1: 0.535252\tvalid_0's l2: 0.372723\n",
      "[LightGBM] [Warning] No further splits with positive gain, best gain: -inf\n",
      "[37]\tvalid_0's l1: 0.533104\tvalid_0's l2: 0.371183\n",
      "[LightGBM] [Warning] No further splits with positive gain, best gain: -inf\n",
      "[38]\tvalid_0's l1: 0.531064\tvalid_0's l2: 0.369913\n",
      "[LightGBM] [Warning] No further splits with positive gain, best gain: -inf\n",
      "[39]\tvalid_0's l1: 0.529126\tvalid_0's l2: 0.36888\n",
      "[LightGBM] [Warning] No further splits with positive gain, best gain: -inf\n",
      "[40]\tvalid_0's l1: 0.527284\tvalid_0's l2: 0.368055\n",
      "[LightGBM] [Warning] No further splits with positive gain, best gain: -inf\n",
      "[41]\tvalid_0's l1: 0.525892\tvalid_0's l2: 0.367699\n",
      "[LightGBM] [Warning] No further splits with positive gain, best gain: -inf\n",
      "[42]\tvalid_0's l1: 0.524569\tvalid_0's l2: 0.367448\n",
      "[LightGBM] [Warning] No further splits with positive gain, best gain: -inf\n",
      "[43]\tvalid_0's l1: 0.523312\tvalid_0's l2: 0.367288\n",
      "[LightGBM] [Warning] No further splits with positive gain, best gain: -inf\n",
      "[44]\tvalid_0's l1: 0.522119\tvalid_0's l2: 0.367207\n",
      "[LightGBM] [Warning] No further splits with positive gain, best gain: -inf\n",
      "[45]\tvalid_0's l1: 0.51828\tvalid_0's l2: 0.364384\n",
      "[LightGBM] [Warning] No further splits with positive gain, best gain: -inf\n",
      "[46]\tvalid_0's l1: 0.496485\tvalid_0's l2: 0.338918\n",
      "[LightGBM] [Warning] No further splits with positive gain, best gain: -inf\n",
      "[47]\tvalid_0's l1: 0.475779\tvalid_0's l2: 0.315891\n",
      "[LightGBM] [Warning] No further splits with positive gain, best gain: -inf\n",
      "[48]\tvalid_0's l1: 0.456109\tvalid_0's l2: 0.295069\n",
      "[LightGBM] [Warning] No further splits with positive gain, best gain: -inf\n",
      "[49]\tvalid_0's l1: 0.437422\tvalid_0's l2: 0.276237\n",
      "[LightGBM] [Warning] No further splits with positive gain, best gain: -inf\n",
      "[50]\tvalid_0's l1: 0.41967\tvalid_0's l2: 0.259205\n",
      "[LightGBM] [Warning] No further splits with positive gain, best gain: -inf\n",
      "[51]\tvalid_0's l1: 0.416775\tvalid_0's l2: 0.257116\n",
      "[LightGBM] [Warning] No further splits with positive gain, best gain: -inf\n",
      "[52]\tvalid_0's l1: 0.414025\tvalid_0's l2: 0.255171\n",
      "[LightGBM] [Warning] No further splits with positive gain, best gain: -inf\n",
      "[53]\tvalid_0's l1: 0.411412\tvalid_0's l2: 0.25336\n",
      "[LightGBM] [Warning] No further splits with positive gain, best gain: -inf\n",
      "[54]\tvalid_0's l1: 0.40893\tvalid_0's l2: 0.251672\n",
      "[LightGBM] [Warning] No further splits with positive gain, best gain: -inf\n",
      "[55]\tvalid_0's l1: 0.406573\tvalid_0's l2: 0.250097\n",
      "[LightGBM] [Warning] No further splits with positive gain, best gain: -inf\n",
      "[56]\tvalid_0's l1: 0.401847\tvalid_0's l2: 0.247181\n",
      "[LightGBM] [Warning] No further splits with positive gain, best gain: -inf\n",
      "[57]\tvalid_0's l1: 0.397358\tvalid_0's l2: 0.244515\n",
      "[LightGBM] [Warning] No further splits with positive gain, best gain: -inf\n",
      "[58]\tvalid_0's l1: 0.393094\tvalid_0's l2: 0.242078\n",
      "[LightGBM] [Warning] No further splits with positive gain, best gain: -inf\n",
      "[59]\tvalid_0's l1: 0.389042\tvalid_0's l2: 0.239848\n",
      "[LightGBM] [Warning] No further splits with positive gain, best gain: -inf\n",
      "[60]\tvalid_0's l1: 0.385194\tvalid_0's l2: 0.237808\n",
      "[LightGBM] [Warning] No further splits with positive gain, best gain: -inf\n",
      "[61]\tvalid_0's l1: 0.38438\tvalid_0's l2: 0.238102\n",
      "[LightGBM] [Warning] No further splits with positive gain, best gain: -inf\n",
      "[62]\tvalid_0's l1: 0.383606\tvalid_0's l2: 0.238451\n",
      "[LightGBM] [Warning] No further splits with positive gain, best gain: -inf\n",
      "[63]\tvalid_0's l1: 0.382872\tvalid_0's l2: 0.238846\n",
      "Early stopping, best iteration is:\n",
      "[60]\tvalid_0's l1: 0.385194\tvalid_0's l2: 0.237808\n"
     ]
    }
   ],
   "source": [
    "model_lgbm = lgb.train(params,\n",
    "lgb_train,\n",
    "num_boost_round=100,\n",
    "valid_sets=lgb_eval,\n",
    "early_stopping_rounds=3)"
   ]
  },
  {
   "cell_type": "code",
   "execution_count": 489,
   "metadata": {},
   "outputs": [],
   "source": [
    "y_pred_lgbm = model_lgbm.predict(X_test, num_iteration=model_lgbm.best_iteration)"
   ]
  },
  {
   "cell_type": "code",
   "execution_count": 490,
   "metadata": {},
   "outputs": [
    {
     "data": {
      "text/plain": [
       "array([0.51792834, 1.76792326, 1.20932236, 0.50426232, 0.79056433,\n",
       "       0.77689831, 1.17120634, 1.76792326, 1.72980723, 1.17120634,\n",
       "       0.50426232, 1.20932236, 1.17120634, 1.76792326, 1.20932236,\n",
       "       1.17120634, 0.79056433, 1.17120634, 1.72980723, 1.76792326,\n",
       "       1.17120634, 0.51792834, 1.72980723, 0.50426232, 1.72663139,\n",
       "       1.68851537, 1.35061725, 1.72980723, 1.72980723, 1.68851537,\n",
       "       1.72980723])"
      ]
     },
     "execution_count": 490,
     "metadata": {},
     "output_type": "execute_result"
    }
   ],
   "source": [
    "y_pred_lgbm"
   ]
  },
  {
   "cell_type": "code",
   "execution_count": 491,
   "metadata": {},
   "outputs": [],
   "source": [
    "predictions = [round(value) for value in y_pred_lgbm]"
   ]
  },
  {
   "cell_type": "code",
   "execution_count": 492,
   "metadata": {},
   "outputs": [
    {
     "name": "stdout",
     "output_type": "stream",
     "text": [
      "Validation Accuracy of lgbm: 0.7096774193548387\n"
     ]
    }
   ],
   "source": [
    "print(\"Validation Accuracy of lgbm:\",accuracy_score(y_test, predictions))"
   ]
  },
  {
   "cell_type": "code",
   "execution_count": 493,
   "metadata": {},
   "outputs": [
    {
     "data": {
      "text/plain": [
       "<catboost.core.CatBoostClassifier at 0x1e1c2139940>"
      ]
     },
     "execution_count": 493,
     "metadata": {},
     "output_type": "execute_result"
    }
   ],
   "source": [
    "from catboost import CatBoostClassifier\n",
    "model_cb = CatBoostClassifier(iterations=10,\n",
    "                           learning_rate=1,\n",
    "                           depth=2,\n",
    "                           loss_function='MultiClass')\n",
    "\n",
    "model_cb.fit(X_train, y_train, \n",
    "        eval_set=(X_test, y_test), \n",
    "        verbose=False\n",
    ")"
   ]
  },
  {
   "cell_type": "code",
   "execution_count": 494,
   "metadata": {},
   "outputs": [],
   "source": [
    "y_pred_catboost = model_cb.predict(data=X_test)"
   ]
  },
  {
   "cell_type": "code",
   "execution_count": 495,
   "metadata": {},
   "outputs": [
    {
     "name": "stdout",
     "output_type": "stream",
     "text": [
      "Validation Accuracy of lgbm: 0.967741935483871\n"
     ]
    }
   ],
   "source": [
    "print(\"Validation Accuracy of lgbm:\",accuracy_score(y_test, y_pred_catboost))"
   ]
  },
  {
   "cell_type": "code",
   "execution_count": 496,
   "metadata": {},
   "outputs": [
    {
     "name": "stdout",
     "output_type": "stream",
     "text": [
      "<class 'pandas.core.frame.DataFrame'>\n",
      "Index(['No of Lines of code', 'No of Components',\n",
      "       'No of External Interactions', 'No of Lines of Transformation Code',\n",
      "       'No of Extensions', 'Total'],\n",
      "      dtype='object')\n"
     ]
    }
   ],
   "source": [
    "# test_data=dfn_cp.head(1)\n",
    "# print(type(test_data))\n",
    "# test_data\n",
    "\n",
    "test_data={'No of Lines of code':1859,'No of Components':37.18,'No of External Interactions':1,\n",
    "           'No of Lines of Transformation Code':464.75,\n",
    "          'No of Extensions':4,'Total':2365.93,'Complexity':'High'}\n",
    "test_data=pd.DataFrame(test_data, index=[0])\n",
    "print(type(t_df))\n",
    "print(t_df.columns)"
   ]
  },
  {
   "cell_type": "code",
   "execution_count": 497,
   "metadata": {},
   "outputs": [
    {
     "name": "stdout",
     "output_type": "stream",
     "text": [
      "['No of Lines of code', 'No of Components', 'No of External Interactions', 'No of Lines of Transformation Code', 'No of Extensions', 'Total', 'Complexity']\n"
     ]
    }
   ],
   "source": [
    "col_list=list(test_data.columns)\n",
    "print(col_list)\n",
    "for i in encoder_list:\n",
    "    for key,value in i.items():\n",
    "        if key in col_list:\n",
    "            file = open(value, 'rb')\n",
    "            pickled_data = pickle.load(file)\n",
    "            test_data[key] = pickled_data.transform(test_data[key])\n",
    "            file.close()"
   ]
  },
  {
   "cell_type": "code",
   "execution_count": 498,
   "metadata": {},
   "outputs": [],
   "source": [
    "test_data=test_data.drop(columns=[\"Complexity\"],axis=1)"
   ]
  },
  {
   "cell_type": "code",
   "execution_count": 499,
   "metadata": {},
   "outputs": [
    {
     "data": {
      "text/html": [
       "<div>\n",
       "<style scoped>\n",
       "    .dataframe tbody tr th:only-of-type {\n",
       "        vertical-align: middle;\n",
       "    }\n",
       "\n",
       "    .dataframe tbody tr th {\n",
       "        vertical-align: top;\n",
       "    }\n",
       "\n",
       "    .dataframe thead th {\n",
       "        text-align: right;\n",
       "    }\n",
       "</style>\n",
       "<table border=\"1\" class=\"dataframe\">\n",
       "  <thead>\n",
       "    <tr style=\"text-align: right;\">\n",
       "      <th></th>\n",
       "      <th>No of Lines of code</th>\n",
       "      <th>No of Components</th>\n",
       "      <th>No of External Interactions</th>\n",
       "      <th>No of Lines of Transformation Code</th>\n",
       "      <th>No of Extensions</th>\n",
       "      <th>Total</th>\n",
       "    </tr>\n",
       "  </thead>\n",
       "  <tbody>\n",
       "    <tr>\n",
       "      <th>0</th>\n",
       "      <td>1859</td>\n",
       "      <td>37.18</td>\n",
       "      <td>1</td>\n",
       "      <td>464.75</td>\n",
       "      <td>4</td>\n",
       "      <td>2365.93</td>\n",
       "    </tr>\n",
       "  </tbody>\n",
       "</table>\n",
       "</div>"
      ],
      "text/plain": [
       "   No of Lines of code  No of Components  No of External Interactions  \\\n",
       "0                 1859             37.18                            1   \n",
       "\n",
       "   No of Lines of Transformation Code  No of Extensions    Total  \n",
       "0                              464.75                 4  2365.93  "
      ]
     },
     "execution_count": 499,
     "metadata": {},
     "output_type": "execute_result"
    }
   ],
   "source": [
    "test_data"
   ]
  },
  {
   "cell_type": "code",
   "execution_count": 500,
   "metadata": {},
   "outputs": [],
   "source": [
    "result=model_XGB.predict(test_data)"
   ]
  },
  {
   "cell_type": "code",
   "execution_count": 501,
   "metadata": {},
   "outputs": [
    {
     "data": {
      "text/plain": [
       "array([1])"
      ]
     },
     "execution_count": 501,
     "metadata": {},
     "output_type": "execute_result"
    }
   ],
   "source": [
    "result"
   ]
  }
 ],
 "metadata": {
  "kernelspec": {
   "display_name": "Python 3",
   "language": "python",
   "name": "python3"
  },
  "language_info": {
   "codemirror_mode": {
    "name": "ipython",
    "version": 3
   },
   "file_extension": ".py",
   "mimetype": "text/x-python",
   "name": "python",
   "nbconvert_exporter": "python",
   "pygments_lexer": "ipython3",
   "version": "3.6.5"
  }
 },
 "nbformat": 4,
 "nbformat_minor": 4
}
